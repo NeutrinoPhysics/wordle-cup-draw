{
 "cells": [
  {
   "cell_type": "markdown",
   "metadata": {},
   "source": [
    "# Wordle Cup \n",
    "\n",
    "### Tournament Draw\n",
    "\n",
    "---\n",
    "\n",
    "<br>\n",
    "\n",
    "This code simulates a random draw to sort participants in 2 groups of 4 players.\n",
    "Running this code will yield different results every time."
   ]
  },
  {
   "cell_type": "code",
   "execution_count": 1,
   "metadata": {},
   "outputs": [],
   "source": [
    "import numpy as np\n",
    "import pandas as pd\n",
    "import string, itertools"
   ]
  },
  {
   "cell_type": "code",
   "execution_count": 2,
   "metadata": {},
   "outputs": [],
   "source": [
    "class GroupDraw(object):\n",
    "    \n",
    "    def __init__(self, pools, positions):\n",
    "        \n",
    "        self.nb_pools     = pools\n",
    "        self.nb_positions = positions\n",
    "        \n",
    "        groups    = np.array(list(string.ascii_uppercase)[:pools])\n",
    "        placement = np.arange(positions)+1\n",
    "        combinations = list(itertools.product(groups, placement.astype(str)))\n",
    "        \n",
    "        self.available_ = [''.join(c) for c in combinations]\n",
    "        self.__update__()\n",
    "        self.draw_ = dict() \n",
    "        \n",
    "        return\n",
    "    \n",
    "    def __update__(self):\n",
    "        self.table = np.array(self.available_).reshape((self.nb_pools, self.nb_positions)).T\n",
    "        return\n",
    "    \n",
    "    def top_seed(self, pot):\n",
    "        choice = np.random.choice(self.table[0], self.nb_pools, replace=False)\n",
    "        self.draw_.update({k:v for k,v in zip(pot, choice)})\n",
    "        self.nb_positions -= 1\n",
    "        self.available_ = [avl for avl in self.available_ if avl not in choice]\n",
    "        self.__update__()\n",
    "        return\n",
    "        \n",
    "    def draw(self, contestants):\n",
    "        order  = np.random.choice(contestants, len(contestants), replace=False)\n",
    "        choice = np.random.choice(self.table.flatten(), len(contestants), replace=False)\n",
    "        self.draw_.update({k:v for k,v in zip(order, choice)})\n",
    "        return\n",
    "    \n",
    "    def show_result(self, group):\n",
    "        \n",
    "        reverseDict = {value:key for key, value in gp.draw_.items()}\n",
    "        sortedDict  = {key:value for key, value in sorted(reverseDict.items())}\n",
    "        \n",
    "        df = pd.DataFrame.from_dict(sortedDict, orient='index').rename({0:'participant'}, axis=1)\n",
    "        df['group'] = [i[0] for i in list(df.index)]\n",
    "        \n",
    "        return df[df['group']==group]['participant'].to_frame()"
   ]
  },
  {
   "cell_type": "markdown",
   "metadata": {},
   "source": [
    "<br>\n",
    "<br>\n",
    "\n",
    "---\n",
    "\n",
    "<br>\n",
    "\n",
    "### Draw Parameters\n",
    "\n",
    "<br>\n",
    "\n",
    "Fix the number of groups, number of positions per group, and the list of ranked players. The top players will be seeded in a common pot to ensure they do not face off each other in the group stage. For the remaining players, the draw consists of selecting a random group and a random position until every spot is filled."
   ]
  },
  {
   "cell_type": "code",
   "execution_count": 3,
   "metadata": {},
   "outputs": [],
   "source": [
    "nbPools     = 2\n",
    "nbPositions = 4\n",
    "ranked_participants = [\n",
    "    'Tom',\n",
    "    'Colleen',\n",
    "    'Anne-Marie',\n",
    "    'Julien',\n",
    "    'Elizabeth',\n",
    "    'Carly',\n",
    "    'Edward',\n",
    "    'TBD'\n",
    "]"
   ]
  },
  {
   "cell_type": "markdown",
   "metadata": {},
   "source": [
    "<br>\n",
    "<br>\n",
    "\n",
    "---\n",
    "\n",
    "<br>\n",
    "\n",
    "### Draw Simulation\n",
    "\n",
    "<br>\n",
    "\n",
    "To run the draw, activate the following cell."
   ]
  },
  {
   "cell_type": "code",
   "execution_count": 4,
   "metadata": {},
   "outputs": [],
   "source": [
    "gp = GroupDraw(\n",
    "    pools=nbPools,\n",
    "    positions=nbPositions\n",
    ")\n",
    "gp.top_seed(pot=ranked_participants[:2])\n",
    "gp.draw(contestants=ranked_participants[2:])"
   ]
  },
  {
   "cell_type": "markdown",
   "metadata": {},
   "source": [
    "<br>\n",
    "<br>\n",
    "\n",
    "---\n",
    "\n",
    "<br>\n",
    "\n",
    "### Outcome\n",
    "\n",
    "<br>\n",
    "\n",
    "Visualise the outcome of the draw for each group"
   ]
  },
  {
   "cell_type": "code",
   "execution_count": 5,
   "metadata": {},
   "outputs": [
    {
     "data": {
      "text/html": [
       "<div>\n",
       "<style scoped>\n",
       "    .dataframe tbody tr th:only-of-type {\n",
       "        vertical-align: middle;\n",
       "    }\n",
       "\n",
       "    .dataframe tbody tr th {\n",
       "        vertical-align: top;\n",
       "    }\n",
       "\n",
       "    .dataframe thead th {\n",
       "        text-align: right;\n",
       "    }\n",
       "</style>\n",
       "<table border=\"1\" class=\"dataframe\">\n",
       "  <thead>\n",
       "    <tr style=\"text-align: right;\">\n",
       "      <th></th>\n",
       "      <th>participant</th>\n",
       "    </tr>\n",
       "  </thead>\n",
       "  <tbody>\n",
       "    <tr>\n",
       "      <th>A1</th>\n",
       "      <td>Colleen</td>\n",
       "    </tr>\n",
       "    <tr>\n",
       "      <th>A2</th>\n",
       "      <td>Anne-Marie</td>\n",
       "    </tr>\n",
       "    <tr>\n",
       "      <th>A3</th>\n",
       "      <td>Edward</td>\n",
       "    </tr>\n",
       "    <tr>\n",
       "      <th>A4</th>\n",
       "      <td>Julien</td>\n",
       "    </tr>\n",
       "  </tbody>\n",
       "</table>\n",
       "</div>"
      ],
      "text/plain": [
       "   participant\n",
       "A1     Colleen\n",
       "A2  Anne-Marie\n",
       "A3      Edward\n",
       "A4      Julien"
      ]
     },
     "execution_count": 5,
     "metadata": {},
     "output_type": "execute_result"
    }
   ],
   "source": [
    "gp.show_result(group='A')"
   ]
  },
  {
   "cell_type": "code",
   "execution_count": 6,
   "metadata": {},
   "outputs": [
    {
     "data": {
      "text/html": [
       "<div>\n",
       "<style scoped>\n",
       "    .dataframe tbody tr th:only-of-type {\n",
       "        vertical-align: middle;\n",
       "    }\n",
       "\n",
       "    .dataframe tbody tr th {\n",
       "        vertical-align: top;\n",
       "    }\n",
       "\n",
       "    .dataframe thead th {\n",
       "        text-align: right;\n",
       "    }\n",
       "</style>\n",
       "<table border=\"1\" class=\"dataframe\">\n",
       "  <thead>\n",
       "    <tr style=\"text-align: right;\">\n",
       "      <th></th>\n",
       "      <th>participant</th>\n",
       "    </tr>\n",
       "  </thead>\n",
       "  <tbody>\n",
       "    <tr>\n",
       "      <th>B1</th>\n",
       "      <td>Tom</td>\n",
       "    </tr>\n",
       "    <tr>\n",
       "      <th>B2</th>\n",
       "      <td>Elizabeth</td>\n",
       "    </tr>\n",
       "    <tr>\n",
       "      <th>B3</th>\n",
       "      <td>Carly</td>\n",
       "    </tr>\n",
       "    <tr>\n",
       "      <th>B4</th>\n",
       "      <td>TBD</td>\n",
       "    </tr>\n",
       "  </tbody>\n",
       "</table>\n",
       "</div>"
      ],
      "text/plain": [
       "   participant\n",
       "B1         Tom\n",
       "B2   Elizabeth\n",
       "B3       Carly\n",
       "B4         TBD"
      ]
     },
     "execution_count": 6,
     "metadata": {},
     "output_type": "execute_result"
    }
   ],
   "source": [
    "gp.show_result(group='B')"
   ]
  }
 ],
 "metadata": {
  "kernelspec": {
   "display_name": "Python 3",
   "language": "python",
   "name": "python3"
  },
  "language_info": {
   "codemirror_mode": {
    "name": "ipython",
    "version": 3
   },
   "file_extension": ".py",
   "mimetype": "text/x-python",
   "name": "python",
   "nbconvert_exporter": "python",
   "pygments_lexer": "ipython3",
   "version": "3.8.10"
  }
 },
 "nbformat": 4,
 "nbformat_minor": 4
}
